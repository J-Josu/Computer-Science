{
 "cells": [
  {
   "cell_type": "markdown",
   "metadata": {},
   "source": [
    "# Practica 2\n",
    "\n",
    "Para la tarea de esta practica seleccione el ejercicio 10\n",
    "\n",
    "### Enunciado\n",
    "\n",
    "> 10\\. Trabajando con los contenidos de los archivos que pueden acceder en el curso:\n",
    ">\n",
    "> - nombres\n",
    "> - eval1\n",
    "> - eval2\n",
    ">\n",
    "> Manipule estos archivos para realizar lo siguiente:\n",
    ">\n",
    "> - Generar una estructura con los nombres de los estudiantes y la suma de ambas notas.\n",
    "> - Calcular el promedio de las notas totales e informar que alumnos obtuvieron menos que el promedio.\n",
    "\n",
    "### Resolucion\n",
    "\n",
    "1. Como parte del eneunciado es leer la informacion de un archivo, mas especificamente un de tipo .txt, decidi hace una funcion generica que reciba la ruta al archivo a leer y una la referencia a una funcion la cual procesara la string proveniente del archivo de manera que devuelva una estructura mas util"
   ]
  },
  {
   "cell_type": "code",
   "execution_count": 1,
   "metadata": {},
   "outputs": [],
   "source": [
    "def process_file(ruta,funcion):\n",
    "    resultado = []\n",
    "    with open(ruta, mode='rt', encoding='utf-8') as file:\n",
    "        s_txt = ''.join(file.readlines())\n",
    "        resultado = funcion(s_txt)\n",
    "    return resultado"
   ]
  },
  {
   "cell_type": "markdown",
   "metadata": {},
   "source": [
    "2. Una de las funciones de transformacion es 'sep_name' la cual toma la string total y remueve comas las comas de separacion, tambien las comillas que engloban las strings y separa en cada salto de linea\n",
    "\n",
    "    Y finalmente quita cualquier espacio del inicio de cada palabra\n",
    "\n",
    "    Otra de las funciones de transformacion es 'sep_nota' la cual remueve lo mismo que la anterior solo que esta ademas toma cada palabra y la transforma a numero"
   ]
  },
  {
   "cell_type": "code",
   "execution_count": 2,
   "metadata": {},
   "outputs": [],
   "source": [
    "def sep_nombre(string):\n",
    "    string = string.lstrip().rstrip()\n",
    "    strings = string.replace('\\'','').replace(',','').split('\\n')\n",
    "    names = list(map(lambda string: string.lstrip(), strings))\n",
    "    return names\n",
    "\n",
    "def sep_nota(string):\n",
    "    strings = string.replace('\\n',' ').replace(',',' ').split()\n",
    "    notas = list(map(lambda s: int(s), strings))\n",
    "    return notas"
   ]
  },
  {
   "cell_type": "markdown",
   "metadata": {},
   "source": [
    "3. Ahora creamos variables con el contenido de cada archivo para poder utilizarlas"
   ]
  },
  {
   "cell_type": "code",
   "execution_count": null,
   "metadata": {},
   "outputs": [],
   "source": [
    "nombres = process_file('nombres_1.txt', sep_nombre)\n",
    "notas = ( \n",
    "         process_file('eval1.txt', sep_nota),\n",
    "         process_file('eval2.txt', sep_nota)\n",
    "        )"
   ]
  },
  {
   "cell_type": "markdown",
   "metadata": {},
   "source": [
    "4. Una vez tenemos el contenido, creamos un diccionario donde la key sea el nombre del alumno y el value la suma de ambas notas,\n",
    "\n",
    "    Aca utilizo una definicion por comprension con la ayuda de la clase zip que crea un iterador con los iterados que reciba de input"
   ]
  },
  {
   "cell_type": "code",
   "execution_count": null,
   "metadata": {},
   "outputs": [],
   "source": [
    "estudiantes = { \n",
    "               nombre : nota1+nota2 \\\n",
    "               for nombre,nota1,nota2 in zip(nombres,notas[0],notas[1])\n",
    "              }"
   ]
  },
  {
   "cell_type": "markdown",
   "metadata": {},
   "source": [
    "5. Ya teniendo el diccionario para calcular el promedio solo hay que iterar sobre los valores de este, sumarlos y dividirlos por la cantidad total de estudiantes"
   ]
  },
  {
   "cell_type": "code",
   "execution_count": null,
   "metadata": {},
   "outputs": [],
   "source": [
    "promedio = 0\n",
    "for nota in estudiantes.values():\n",
    "    promedio += nota\n",
    "promedio /= len(estudiantes)"
   ]
  },
  {
   "cell_type": "markdown",
   "metadata": {},
   "source": [
    "6. Ahora para informar que alumnos estan por debajo del promedio, solo iteramos sobre el diccionario comprobando cuales estudiantes no alcanzan el promedio"
   ]
  },
  {
   "cell_type": "code",
   "execution_count": null,
   "metadata": {},
   "outputs": [],
   "source": [
    "for nombre, nota in estudiantes.items():\n",
    "    if nota < promedio:\n",
    "        print(f'El alumno {nombre} tiene menos nota que el promedio')"
   ]
  },
  {
   "cell_type": "markdown",
   "metadata": {},
   "source": [
    "<div align=\"center\">\n",
    "\n",
    "## Gracias por leer ❤️\n",
    "\n",
    "</div>"
   ]
  }
 ],
 "metadata": {
  "interpreter": {
   "hash": "2be5faf79681da6f2a61fdfdd5405d65d042280f7fba6178067603e3a2925119"
  },
  "kernelspec": {
   "display_name": "Python 3.10.0 64-bit",
   "language": "python",
   "name": "python3"
  },
  "language_info": {
   "codemirror_mode": {
    "name": "ipython",
    "version": 3
   },
   "file_extension": ".py",
   "mimetype": "text/x-python",
   "name": "python",
   "nbconvert_exporter": "python",
   "pygments_lexer": "ipython3",
   "version": "3.10.0"
  },
  "orig_nbformat": 4
 },
 "nbformat": 4,
 "nbformat_minor": 2
}
